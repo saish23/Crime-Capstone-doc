{
 "cells": [
  {
   "cell_type": "code",
   "execution_count": 1,
   "id": "11ef16f6",
   "metadata": {},
   "outputs": [],
   "source": [
    "# Imp libs:\n",
    "import numpy as np\n",
    "import pandas as pd\n",
    "import matplotlib.pyplot as plt\n",
    "import seaborn as sns\n",
    "import re\n",
    "\n",
    "# Spliting data\n",
    "from sklearn.model_selection import train_test_split,GridSearchCV\n",
    "\n",
    "from statsmodels.stats.outliers_influence import variance_inflation_factor\n",
    "\n",
    "# Removing warnings\n",
    "import warnings\n",
    "warnings.filterwarnings('ignore')\n",
    "\n",
    "%matplotlib inline"
   ]
  },
  {
   "cell_type": "code",
   "execution_count": 2,
   "id": "b44ea372",
   "metadata": {},
   "outputs": [],
   "source": [
    "# storing file locations in variables\n",
    "\n",
    "file1 = r'E:\\DS Course Related\\Capstone Project\\India_Crime - Copy\\01_District_wise_crimes_committed_IPC_2001_2012.csv'\n",
    "file2 = r'E:\\DS Course Related\\Capstone Project\\India_Crime - Copy\\02_01_District_wise_crimes_committed_against_SC_2001_2012.csv'\n",
    "file3 = r'E:\\DS Course Related\\Capstone Project\\India_Crime - Copy\\02_District_wise_crimes_committed_against_ST_2001_2012.csv'\n",
    "file4 = r'E:\\DS Course Related\\Capstone Project\\India_Crime - Copy\\03_District_wise_crimes_committed_against_children_2001_2012.csv'\n",
    "file5 = r'E:\\DS Course Related\\Capstone Project\\India_Crime - Copy\\08_01_Juvenile_apprehended_state_IPC_2001_2010.csv'\n",
    "file6 = r'E:\\DS Course Related\\Capstone Project\\India_Crime - Copy\\11_Property_stolen_and_recovered_nature_of_property_2001_2010.csv'\n",
    "file7 = r'E:\\DS Course Related\\Capstone Project\\India_Crime - Copy\\13_Police_killed_or_injured_on_duty2001_2010.csv'\n",
    "file8 = r'E:\\DS Course Related\\Capstone Project\\India_Crime - Copy\\17_Case_reported_and_value_of_property_taken_away_by_place_of_occurrence_2001_2012.csv'\n",
    "file9 = r'E:\\DS Course Related\\Capstone Project\\India_Crime - Copy\\17_Crime_by_place_of_occurrence_2001_2012.csv'\n",
    "file10 = r'E:\\DS Course Related\\Capstone Project\\India_Crime - Copy\\35_Human_rights_violation_by_police_2001_2010.csv'\n",
    "file11 = r'E:\\DS Course Related\\Capstone Project\\India_Crime - Copy\\42_District_wise_crimes_committed_against_women_2001_2012.csv'\n",
    "\n",
    "# reading datasets\n",
    "\n",
    "df1 = pd.read_csv(file1)\n",
    "df2 = pd.read_csv(file2)\n",
    "df3  = pd.read_csv(file3)\n",
    "df4 = pd.read_csv(file4)\n",
    "df5 = pd.read_csv(file5)\n",
    "df6 = pd.read_csv(file6)\n",
    "df7 = pd.read_csv(file7)\n",
    "df8 = pd.read_csv(file8)\n",
    "df9 = pd.read_csv(file9)\n",
    "df10 = pd.read_csv(file10)\n",
    "df11 = pd.read_csv(file11)\n",
    "\n",
    "# list of available dataframes\n",
    "\n",
    "df_list = [df1,df2,df3,df4,df5,df6,df7,df8,df9,df10,df11]\n"
   ]
  },
  {
   "cell_type": "code",
   "execution_count": 3,
   "id": "09a71648",
   "metadata": {},
   "outputs": [
    {
     "name": "stdout",
     "output_type": "stream",
     "text": [
      "Column names in dataframe: Index(['STATE/UT', 'DISTRICT', 'YEAR', 'MURDER', 'ATTEMPT TO MURDER',\n",
      "       'CULPABLE HOMICIDE NOT AMOUNTING TO MURDER', 'RAPE', 'CUSTODIAL RAPE',\n",
      "       'OTHER RAPE', 'KIDNAPPING & ABDUCTION',\n",
      "       'KIDNAPPING AND ABDUCTION OF WOMEN AND GIRLS',\n",
      "       'KIDNAPPING AND ABDUCTION OF OTHERS', 'DACOITY',\n",
      "       'PREPARATION AND ASSEMBLY FOR DACOITY', 'ROBBERY', 'BURGLARY', 'THEFT',\n",
      "       'AUTO THEFT', 'OTHER THEFT', 'RIOTS', 'CRIMINAL BREACH OF TRUST',\n",
      "       'CHEATING', 'COUNTERFIETING', 'ARSON', 'HURT/GREVIOUS HURT',\n",
      "       'DOWRY DEATHS', 'ASSAULT ON WOMEN WITH INTENT TO OUTRAGE HER MODESTY',\n",
      "       'INSULT TO MODESTY OF WOMEN', 'CRUELTY BY HUSBAND OR HIS RELATIVES',\n",
      "       'IMPORTATION OF GIRLS FROM FOREIGN COUNTRIES',\n",
      "       'CAUSING DEATH BY NEGLIGENCE', 'OTHER IPC CRIMES', 'TOTAL IPC CRIMES'],\n",
      "      dtype='object') \n",
      "\n",
      "Number of columns:  33 \n",
      "\n",
      "\n",
      "Column names in dataframe: Index(['STATE/UT', 'DISTRICT', 'Year', 'Murder', 'Rape',\n",
      "       'Kidnapping and Abduction', 'Dacoity', 'Robbery', 'Arson', 'Hurt',\n",
      "       'Prevention of atrocities (POA) Act',\n",
      "       'Protection of Civil Rights (PCR) Act', 'Other Crimes Against SCs'],\n",
      "      dtype='object') \n",
      "\n",
      "Number of columns:  13 \n",
      "\n",
      "\n",
      "Column names in dataframe: Index(['STATE/UT', 'DISTRICT', 'Year', 'Murder', 'Rape',\n",
      "       'Kidnapping Abduction', 'Dacoity', 'Robbery', 'Arson', 'Hurt',\n",
      "       'Protection of Civil Rights (PCR) Act',\n",
      "       'Prevention of atrocities (POA) Act', 'Other Crimes Against STs'],\n",
      "      dtype='object') \n",
      "\n",
      "Number of columns:  13 \n",
      "\n",
      "\n",
      "Column names in dataframe: Index(['STATE/UT', 'DISTRICT', 'Year', 'Murder', 'Rape',\n",
      "       'Kidnapping and Abduction', 'Foeticide', 'Abetment of suicide',\n",
      "       'Exposure and abandonment', 'Procuration of minor girls',\n",
      "       'Buying of girls for prostitution', 'Selling of girls for prostitution',\n",
      "       'Prohibition of child marriage act', 'Other Crimes', 'Total'],\n",
      "      dtype='object') \n",
      "\n",
      "Number of columns:  15 \n",
      "\n",
      "\n",
      "Column names in dataframe: Index(['STATE/UT', 'Year', 'CRIME', 'Boys 7-12 Years', 'Girls 7-12 Years',\n",
      "       'Boys 12-16 Years', 'Girls 12-16 Years', 'Boys 16-18 Years',\n",
      "       'Girls 16-18 Years', 'Total for boys all Age Groups',\n",
      "       'Total for girls all Age Groups', 'Grand total'],\n",
      "      dtype='object') \n",
      "\n",
      "Number of columns:  12 \n",
      "\n",
      "\n",
      "Column names in dataframe: Index(['Area_Name', 'Year', 'Group_Name', 'Sub_Group_Name',\n",
      "       'Cases_Property_Recovered', 'Cases_Property_Stolen',\n",
      "       'Value_of_Property_Recovered', 'Value_of_Property_Stolen'],\n",
      "      dtype='object') \n",
      "\n",
      "Number of columns:  8 \n",
      "\n",
      "\n",
      "Column names in dataframe: Index(['Area_Name', 'Year', 'Group_Name', 'Sub_Group_Name',\n",
      "       'Police_Injured_By_Criminals', 'Police_Injured_By_Riotous_Mobs',\n",
      "       'Police_Injured_In_Accidents',\n",
      "       'Police_Injured_In_Dacoity_OperationsOther_raids',\n",
      "       'Police_Injured_In_TerroristsExtremists_Operations',\n",
      "       'Police_Injured_On_Border_Duties', 'Police_Injured_Total_Policemen',\n",
      "       'Police_Killed_By_Criminals', 'Police_Killed_By_Riotous_Mobs',\n",
      "       'Police_Killed_In_Accidents',\n",
      "       'Police_Killed_In_Dacoity_OperationsOther_raids',\n",
      "       'Police_Killed_In_TerroristsExtremists_Operations',\n",
      "       'Police_Killed_On_Border_Duties', 'Police_Killed_Total_Policemen'],\n",
      "      dtype='object') \n",
      "\n",
      "Number of columns:  18 \n",
      "\n",
      "\n",
      "Column names in dataframe: Index(['STATE/UT', 'YEAR', 'Place Of Occurrence',\n",
      "       'Dacoity (Section 395-398 IPC) - Number of cases registered',\n",
      "       'Dacoity (Section 395-398 IPC) - Value Of Property Stolen (in rupees)',\n",
      "       'Robbery(Section 392-394, 397, 398 IPC) - Number of cases registered',\n",
      "       'Robbery(Section 392-394, 397, 398 IPC) - Value Of Property Stolen (in rupees)',\n",
      "       'Burglary(Section 449-452, 454, 455, 457-460 IPC) - Number of cases registered',\n",
      "       'Burglary(Section 449-452, 454, 455, 457-460 IPC) - Value Of Property Stolen (in rupees)',\n",
      "       'Theft (Section 379-382 IPC) - Number of cases registered',\n",
      "       'Theft (Section 379-382 IPC) - Value Of Property Stolen (in rupees)'],\n",
      "      dtype='object') \n",
      "\n",
      "Number of columns:  11 \n",
      "\n",
      "\n",
      "Column names in dataframe: Index(['STATE/UT', 'YEAR', 'RESIDENTIAL PREMISES - Dacoity',\n",
      "       'RESIDENTIAL PREMISES - Robbery', 'RESIDENTIAL PREMISES - Burglary',\n",
      "       'RESIDENTIAL PREMISES - Theft', 'HIGHWAYS - Dacoity',\n",
      "       'HIGHWAYS - Robbery', 'HIGHWAYS - Burglary', 'HIGHWAYS - Theft',\n",
      "       'RIVER and SEA - Dacoity', 'RIVER and SEA - Robbery',\n",
      "       'RIVER and SEA - Burglary', 'RIVER and SEA - Theft',\n",
      "       'RAILWAYS - Dacoity', 'RAILWAYS - Robbery', 'RAILWAYS - Burglary',\n",
      "       'RAILWAYS - Theft', 'BANKS - Dacoity', 'BANKS - Robbery',\n",
      "       'BANKS - Burglary', 'BANKS - Theft',\n",
      "       'COMMERCIAL ESTABLISHMENTS - Dacoity',\n",
      "       'COMMERCIAL ESTABLISHMENTS - Robbery',\n",
      "       'COMMERCIAL ESTABLISHMENTS - Burglary',\n",
      "       'COMMERCIAL ESTABLISHMENTS - Theft', 'OTHER PLACES - Dacoity',\n",
      "       'OTHER PLACES - Robbery', 'OTHER PLACES - Burglary',\n",
      "       'OTHER PLACES - Theft', 'TOTAL - Dacoity', 'TOTAL - Robbery',\n",
      "       'TOTAL - Burglary', 'TOTAL - Theft'],\n",
      "      dtype='object') \n",
      "\n",
      "Number of columns:  34 \n",
      "\n",
      "\n",
      "Column names in dataframe: Index(['Area_Name', 'Year', 'Group_Name', 'Sub_Group_Name',\n",
      "       'Cases_Registered_under_Human_Rights_Violations',\n",
      "       'Policemen_Chargesheeted', 'Policemen_Convicted'],\n",
      "      dtype='object') \n",
      "\n",
      "Number of columns:  7 \n",
      "\n",
      "\n",
      "Column names in dataframe: Index(['STATE/UT', 'DISTRICT', 'Year', 'Rape', 'Kidnapping and Abduction',\n",
      "       'Dowry Deaths', 'Assault on women with intent to outrage her modesty',\n",
      "       'Insult to modesty of Women', 'Cruelty by Husband or his Relatives',\n",
      "       'Importation of Girls'],\n",
      "      dtype='object') \n",
      "\n",
      "Number of columns:  10 \n",
      "\n",
      "\n"
     ]
    }
   ],
   "source": [
    "for i in df_list:\n",
    "    print('Column names in dataframe:',i.columns,'\\n')\n",
    "    print('Number of columns: ', len(i.columns),'\\n\\n')"
   ]
  },
  {
   "cell_type": "code",
   "execution_count": 4,
   "id": "8cbd2e05",
   "metadata": {},
   "outputs": [
    {
     "data": {
      "text/plain": [
       "array([2001, 2002, 2003, 2004, 2005, 2006, 2007, 2008, 2009, 2010, 2011,\n",
       "       2012], dtype=int64)"
      ]
     },
     "execution_count": 4,
     "metadata": {},
     "output_type": "execute_result"
    }
   ],
   "source": [
    "df1['YEAR'].unique()"
   ]
  },
  {
   "cell_type": "code",
   "execution_count": 5,
   "id": "99349e39",
   "metadata": {},
   "outputs": [
    {
     "data": {
      "text/plain": [
       "array([2001, 2002, 2003, 2004, 2005, 2006, 2007, 2008, 2009, 2010, 2011,\n",
       "       2012], dtype=int64)"
      ]
     },
     "execution_count": 5,
     "metadata": {},
     "output_type": "execute_result"
    }
   ],
   "source": [
    "df2['Year'].unique()"
   ]
  },
  {
   "cell_type": "code",
   "execution_count": 6,
   "id": "212012a0",
   "metadata": {},
   "outputs": [
    {
     "data": {
      "text/plain": [
       "array([2001, 2002, 2003, 2004, 2005, 2006, 2007, 2008, 2009, 2010, 2011,\n",
       "       2012], dtype=int64)"
      ]
     },
     "execution_count": 6,
     "metadata": {},
     "output_type": "execute_result"
    }
   ],
   "source": [
    "df3['Year'].unique()"
   ]
  },
  {
   "cell_type": "code",
   "execution_count": 7,
   "id": "0f0efc2d",
   "metadata": {},
   "outputs": [
    {
     "data": {
      "text/plain": [
       "array([2001, 2002, 2003, 2004, 2005, 2006, 2007, 2008, 2009, 2010, 2011,\n",
       "       2012], dtype=int64)"
      ]
     },
     "execution_count": 7,
     "metadata": {},
     "output_type": "execute_result"
    }
   ],
   "source": [
    "df4['Year'].unique()"
   ]
  },
  {
   "cell_type": "code",
   "execution_count": 8,
   "id": "23ea2c21",
   "metadata": {},
   "outputs": [
    {
     "data": {
      "text/plain": [
       "array([2001, 2002, 2003, 2004, 2005, 2006, 2007, 2008, 2009, 2010],\n",
       "      dtype=int64)"
      ]
     },
     "execution_count": 8,
     "metadata": {},
     "output_type": "execute_result"
    }
   ],
   "source": [
    "df5['Year'].unique()"
   ]
  },
  {
   "cell_type": "code",
   "execution_count": 9,
   "id": "b6f7fb1d",
   "metadata": {},
   "outputs": [
    {
     "data": {
      "text/plain": [
       "array([2001, 2002, 2003, 2004, 2005, 2006, 2007, 2008, 2009, 2010],\n",
       "      dtype=int64)"
      ]
     },
     "execution_count": 9,
     "metadata": {},
     "output_type": "execute_result"
    }
   ],
   "source": [
    "df6['Year'].unique()"
   ]
  },
  {
   "cell_type": "code",
   "execution_count": 10,
   "id": "b801de8a",
   "metadata": {},
   "outputs": [
    {
     "data": {
      "text/plain": [
       "array([2001, 2002, 2003, 2004, 2005, 2006, 2007, 2008, 2009, 2010],\n",
       "      dtype=int64)"
      ]
     },
     "execution_count": 10,
     "metadata": {},
     "output_type": "execute_result"
    }
   ],
   "source": [
    "df7['Year'].unique()"
   ]
  },
  {
   "cell_type": "code",
   "execution_count": 11,
   "id": "2da9cdc8",
   "metadata": {},
   "outputs": [
    {
     "data": {
      "text/plain": [
       "array([2001, 2002, 2003, 2004, 2005, 2006, 2007, 2008, 2009, 2010, 2011,\n",
       "       2012], dtype=int64)"
      ]
     },
     "execution_count": 11,
     "metadata": {},
     "output_type": "execute_result"
    }
   ],
   "source": [
    "df8['YEAR'].unique()"
   ]
  },
  {
   "cell_type": "code",
   "execution_count": 12,
   "id": "f1f825c8",
   "metadata": {},
   "outputs": [
    {
     "data": {
      "text/plain": [
       "array([2001, 2002, 2003, 2004, 2005, 2006, 2007, 2008, 2009, 2010, 2011,\n",
       "       2012], dtype=int64)"
      ]
     },
     "execution_count": 12,
     "metadata": {},
     "output_type": "execute_result"
    }
   ],
   "source": [
    "df9['YEAR'].unique()"
   ]
  },
  {
   "cell_type": "code",
   "execution_count": 13,
   "id": "9382d596",
   "metadata": {},
   "outputs": [
    {
     "data": {
      "text/plain": [
       "array([2001, 2002, 2003, 2004, 2005, 2006, 2007, 2008, 2009, 2010],\n",
       "      dtype=int64)"
      ]
     },
     "execution_count": 13,
     "metadata": {},
     "output_type": "execute_result"
    }
   ],
   "source": [
    "df10['Year'].unique()"
   ]
  },
  {
   "cell_type": "code",
   "execution_count": 14,
   "id": "3f1dd4d7",
   "metadata": {},
   "outputs": [
    {
     "data": {
      "text/plain": [
       "array([2001, 2002, 2003, 2004, 2005, 2006, 2007, 2008, 2009, 2010, 2011,\n",
       "       2012], dtype=int64)"
      ]
     },
     "execution_count": 14,
     "metadata": {},
     "output_type": "execute_result"
    }
   ],
   "source": [
    "df11['Year'].unique()"
   ]
  },
  {
   "cell_type": "markdown",
   "id": "7abcbb35",
   "metadata": {},
   "source": [
    "Phase 1:\n",
    "\n",
    "Data Collection/preparation part.\n",
    "\n",
    "\n",
    "\n",
    "Note: \n",
    "\n",
    "You can collect data from anywhere (wiki, google, etc) but mention the link from where data is being collected.\n",
    "\n",
    "You can collect the data manually. It's NOT a web scraping task.\n",
    "\n",
    "Data should be collected for the years mentioned in the files. (If you don't find proper data, make your best judgment and fill it, It's absolutely OK. Do not worry about data accuracy)\n",
    "\n",
    "\n",
    "\n",
    "The population of each state.\n",
    "\n",
    "Literacy Rate in each state\n",
    "\n",
    "Area of each state\n",
    "\n",
    "Collect any other data that helps with your analysis. There is no limitation for anything.\n",
    "\n",
    "Create a new file and keep the above-collected data."
   ]
  },
  {
   "cell_type": "code",
   "execution_count": 15,
   "id": "f8611c54",
   "metadata": {},
   "outputs": [],
   "source": [
    "# Collected data:\n",
    "\n",
    "# https://en.wikipedia.org/wiki/List_of_states_in_India_by_past_population\n",
    "\n",
    "# https://en.wikipedia.org/wiki/List_of_states_and_union_territories_of_India_by_area\n",
    "\n",
    "# https://www.census2011.co.in/literacy.php\n",
    "\n",
    "df_past_pop = pd.read_excel('E:\\DS Course Related\\Capstone Project\\Phase 1 data collection\\past population data.xlsx')\n",
    "df_pop = pd.read_excel('E:\\DS Course Related\\Capstone Project\\Phase 1 data collection\\Population data.xlsx')\n",
    "df_area = pd.read_excel('E:\\DS Course Related\\Capstone Project\\Phase 1 data collection\\State areas data.xlsx')\n",
    "df_lit = pd.read_excel('E:\\DS Course Related\\Capstone Project\\Phase 1 data collection\\Literacy Rate data.xlsx')"
   ]
  },
  {
   "cell_type": "markdown",
   "id": "75a6a603",
   "metadata": {},
   "source": [
    "# Population data"
   ]
  },
  {
   "cell_type": "code",
   "execution_count": 16,
   "id": "1670a42b",
   "metadata": {},
   "outputs": [
    {
     "data": {
      "text/html": [
       "<div>\n",
       "<style scoped>\n",
       "    .dataframe tbody tr th:only-of-type {\n",
       "        vertical-align: middle;\n",
       "    }\n",
       "\n",
       "    .dataframe tbody tr th {\n",
       "        vertical-align: top;\n",
       "    }\n",
       "\n",
       "    .dataframe thead th {\n",
       "        text-align: right;\n",
       "    }\n",
       "</style>\n",
       "<table border=\"1\" class=\"dataframe\">\n",
       "  <thead>\n",
       "    <tr style=\"text-align: right;\">\n",
       "      <th></th>\n",
       "      <th>State or Union Territory</th>\n",
       "      <th>Urban population</th>\n",
       "      <th>Percent urban</th>\n",
       "    </tr>\n",
       "  </thead>\n",
       "  <tbody>\n",
       "    <tr>\n",
       "      <th>0</th>\n",
       "      <td>West Bengal</td>\n",
       "      <td>29093002</td>\n",
       "      <td>0.3187</td>\n",
       "    </tr>\n",
       "    <tr>\n",
       "      <th>1</th>\n",
       "      <td>Uttarakhand</td>\n",
       "      <td>3049338</td>\n",
       "      <td>0.3023</td>\n",
       "    </tr>\n",
       "    <tr>\n",
       "      <th>2</th>\n",
       "      <td>Uttar Pradesh</td>\n",
       "      <td>44495063</td>\n",
       "      <td>0.2227</td>\n",
       "    </tr>\n",
       "    <tr>\n",
       "      <th>3</th>\n",
       "      <td>Tripura</td>\n",
       "      <td>961453</td>\n",
       "      <td>0.2617</td>\n",
       "    </tr>\n",
       "    <tr>\n",
       "      <th>4</th>\n",
       "      <td>Telangana</td>\n",
       "      <td>13608665</td>\n",
       "      <td>0.3888</td>\n",
       "    </tr>\n",
       "  </tbody>\n",
       "</table>\n",
       "</div>"
      ],
      "text/plain": [
       "  State or Union Territory  Urban population  Percent urban\n",
       "0              West Bengal          29093002         0.3187\n",
       "1              Uttarakhand           3049338         0.3023\n",
       "2            Uttar Pradesh          44495063         0.2227\n",
       "3                  Tripura            961453         0.2617\n",
       "4                Telangana          13608665         0.3888"
      ]
     },
     "execution_count": 16,
     "metadata": {},
     "output_type": "execute_result"
    }
   ],
   "source": [
    "# Population in indian states for years 2001 to 2012\n",
    "\n",
    "imp_df_pop = df_pop[[df_pop.columns[1],df_pop.columns[7],df_pop.columns[8]]].head()\n",
    "imp_df_pop"
   ]
  },
  {
   "cell_type": "code",
   "execution_count": 17,
   "id": "2da1595b",
   "metadata": {},
   "outputs": [
    {
     "data": {
      "text/html": [
       "<div>\n",
       "<style scoped>\n",
       "    .dataframe tbody tr th:only-of-type {\n",
       "        vertical-align: middle;\n",
       "    }\n",
       "\n",
       "    .dataframe tbody tr th {\n",
       "        vertical-align: top;\n",
       "    }\n",
       "\n",
       "    .dataframe thead th {\n",
       "        text-align: right;\n",
       "    }\n",
       "</style>\n",
       "<table border=\"1\" class=\"dataframe\">\n",
       "  <thead>\n",
       "    <tr style=\"text-align: right;\">\n",
       "      <th></th>\n",
       "      <th>State or union territory</th>\n",
       "      <th>Population (2001 Census)[11]</th>\n",
       "      <th>Population (2011 Census)[11]</th>\n",
       "    </tr>\n",
       "  </thead>\n",
       "  <tbody>\n",
       "    <tr>\n",
       "      <th>0</th>\n",
       "      <td>Uttar Pradesh</td>\n",
       "      <td>166053600.0</td>\n",
       "      <td>199581477</td>\n",
       "    </tr>\n",
       "    <tr>\n",
       "      <th>1</th>\n",
       "      <td>Maharashtra</td>\n",
       "      <td>96752500.0</td>\n",
       "      <td>112372972</td>\n",
       "    </tr>\n",
       "    <tr>\n",
       "      <th>2</th>\n",
       "      <td>Bihar</td>\n",
       "      <td>82879910.0</td>\n",
       "      <td>103804630</td>\n",
       "    </tr>\n",
       "    <tr>\n",
       "      <th>3</th>\n",
       "      <td>West Bengal</td>\n",
       "      <td>80221300.0</td>\n",
       "      <td>91347736</td>\n",
       "    </tr>\n",
       "    <tr>\n",
       "      <th>4</th>\n",
       "      <td>Madhya Pradesh</td>\n",
       "      <td>60385090.0</td>\n",
       "      <td>72597565</td>\n",
       "    </tr>\n",
       "  </tbody>\n",
       "</table>\n",
       "</div>"
      ],
      "text/plain": [
       "  State or union territory  Population (2001 Census)[11]  \\\n",
       "0            Uttar Pradesh                   166053600.0   \n",
       "1              Maharashtra                    96752500.0   \n",
       "2                    Bihar                    82879910.0   \n",
       "3              West Bengal                    80221300.0   \n",
       "4           Madhya Pradesh                    60385090.0   \n",
       "\n",
       "   Population (2011 Census)[11]  \n",
       "0                     199581477  \n",
       "1                     112372972  \n",
       "2                     103804630  \n",
       "3                      91347736  \n",
       "4                      72597565  "
      ]
     },
     "execution_count": 17,
     "metadata": {},
     "output_type": "execute_result"
    }
   ],
   "source": [
    "imp_df_past_pop = df_past_pop[[df_past_pop.columns[1],df_past_pop.columns[7],df_past_pop.columns[8]]].head()\n",
    "imp_df_past_pop"
   ]
  },
  {
   "cell_type": "code",
   "execution_count": 18,
   "id": "8e87285d",
   "metadata": {},
   "outputs": [
    {
     "data": {
      "text/html": [
       "<div>\n",
       "<style scoped>\n",
       "    .dataframe tbody tr th:only-of-type {\n",
       "        vertical-align: middle;\n",
       "    }\n",
       "\n",
       "    .dataframe tbody tr th {\n",
       "        vertical-align: top;\n",
       "    }\n",
       "\n",
       "    .dataframe thead th {\n",
       "        text-align: right;\n",
       "    }\n",
       "</style>\n",
       "<table border=\"1\" class=\"dataframe\">\n",
       "  <thead>\n",
       "    <tr style=\"text-align: right;\">\n",
       "      <th></th>\n",
       "      <th>State or union territory</th>\n",
       "      <th>Population (2001 Census)[11]</th>\n",
       "      <th>Population (2011 Census)[11]</th>\n",
       "      <th>Per month increase in population</th>\n",
       "      <th>pop in 2002</th>\n",
       "      <th>pop in 2003</th>\n",
       "      <th>pop in 2004</th>\n",
       "      <th>pop in 2005</th>\n",
       "      <th>pop in 2006</th>\n",
       "      <th>pop in 2007</th>\n",
       "      <th>pop in 2008</th>\n",
       "      <th>pop in 2009</th>\n",
       "      <th>pop in 2010</th>\n",
       "      <th>pop in 2011</th>\n",
       "    </tr>\n",
       "  </thead>\n",
       "  <tbody>\n",
       "    <tr>\n",
       "      <th>0</th>\n",
       "      <td>Uttar Pradesh</td>\n",
       "      <td>166053600.0</td>\n",
       "      <td>199581477</td>\n",
       "      <td>2.793990e+06</td>\n",
       "      <td>1.688476e+08</td>\n",
       "      <td>1.716416e+08</td>\n",
       "      <td>1.744356e+08</td>\n",
       "      <td>1.772296e+08</td>\n",
       "      <td>1.800235e+08</td>\n",
       "      <td>182817538.5</td>\n",
       "      <td>1.856115e+08</td>\n",
       "      <td>1.884055e+08</td>\n",
       "      <td>1.911995e+08</td>\n",
       "      <td>1.939935e+08</td>\n",
       "    </tr>\n",
       "    <tr>\n",
       "      <th>1</th>\n",
       "      <td>Maharashtra</td>\n",
       "      <td>96752500.0</td>\n",
       "      <td>112372972</td>\n",
       "      <td>1.301706e+06</td>\n",
       "      <td>9.805421e+07</td>\n",
       "      <td>9.935591e+07</td>\n",
       "      <td>1.006576e+08</td>\n",
       "      <td>1.019593e+08</td>\n",
       "      <td>1.032610e+08</td>\n",
       "      <td>104562736.0</td>\n",
       "      <td>1.058644e+08</td>\n",
       "      <td>1.071661e+08</td>\n",
       "      <td>1.084679e+08</td>\n",
       "      <td>1.097696e+08</td>\n",
       "    </tr>\n",
       "    <tr>\n",
       "      <th>2</th>\n",
       "      <td>Bihar</td>\n",
       "      <td>82879910.0</td>\n",
       "      <td>103804630</td>\n",
       "      <td>1.743727e+06</td>\n",
       "      <td>8.462364e+07</td>\n",
       "      <td>8.636736e+07</td>\n",
       "      <td>8.811109e+07</td>\n",
       "      <td>8.985482e+07</td>\n",
       "      <td>9.159854e+07</td>\n",
       "      <td>93342270.0</td>\n",
       "      <td>9.508600e+07</td>\n",
       "      <td>9.682972e+07</td>\n",
       "      <td>9.857345e+07</td>\n",
       "      <td>1.003172e+08</td>\n",
       "    </tr>\n",
       "    <tr>\n",
       "      <th>3</th>\n",
       "      <td>West Bengal</td>\n",
       "      <td>80221300.0</td>\n",
       "      <td>91347736</td>\n",
       "      <td>9.272030e+05</td>\n",
       "      <td>8.114850e+07</td>\n",
       "      <td>8.207571e+07</td>\n",
       "      <td>8.300291e+07</td>\n",
       "      <td>8.393011e+07</td>\n",
       "      <td>8.485732e+07</td>\n",
       "      <td>85784518.0</td>\n",
       "      <td>8.671172e+07</td>\n",
       "      <td>8.763892e+07</td>\n",
       "      <td>8.856613e+07</td>\n",
       "      <td>8.949333e+07</td>\n",
       "    </tr>\n",
       "    <tr>\n",
       "      <th>4</th>\n",
       "      <td>Madhya Pradesh</td>\n",
       "      <td>60385090.0</td>\n",
       "      <td>72597565</td>\n",
       "      <td>1.017706e+06</td>\n",
       "      <td>6.140280e+07</td>\n",
       "      <td>6.242050e+07</td>\n",
       "      <td>6.343821e+07</td>\n",
       "      <td>6.445592e+07</td>\n",
       "      <td>6.547362e+07</td>\n",
       "      <td>66491327.5</td>\n",
       "      <td>6.750903e+07</td>\n",
       "      <td>6.852674e+07</td>\n",
       "      <td>6.954445e+07</td>\n",
       "      <td>7.056215e+07</td>\n",
       "    </tr>\n",
       "  </tbody>\n",
       "</table>\n",
       "</div>"
      ],
      "text/plain": [
       "  State or union territory  Population (2001 Census)[11]  \\\n",
       "0            Uttar Pradesh                   166053600.0   \n",
       "1              Maharashtra                    96752500.0   \n",
       "2                    Bihar                    82879910.0   \n",
       "3              West Bengal                    80221300.0   \n",
       "4           Madhya Pradesh                    60385090.0   \n",
       "\n",
       "   Population (2011 Census)[11]  Per month increase in population  \\\n",
       "0                     199581477                      2.793990e+06   \n",
       "1                     112372972                      1.301706e+06   \n",
       "2                     103804630                      1.743727e+06   \n",
       "3                      91347736                      9.272030e+05   \n",
       "4                      72597565                      1.017706e+06   \n",
       "\n",
       "    pop in 2002   pop in 2003   pop in 2004   pop in 2005   pop in 2006  \\\n",
       "0  1.688476e+08  1.716416e+08  1.744356e+08  1.772296e+08  1.800235e+08   \n",
       "1  9.805421e+07  9.935591e+07  1.006576e+08  1.019593e+08  1.032610e+08   \n",
       "2  8.462364e+07  8.636736e+07  8.811109e+07  8.985482e+07  9.159854e+07   \n",
       "3  8.114850e+07  8.207571e+07  8.300291e+07  8.393011e+07  8.485732e+07   \n",
       "4  6.140280e+07  6.242050e+07  6.343821e+07  6.445592e+07  6.547362e+07   \n",
       "\n",
       "   pop in 2007   pop in 2008   pop in 2009   pop in 2010   pop in 2011  \n",
       "0  182817538.5  1.856115e+08  1.884055e+08  1.911995e+08  1.939935e+08  \n",
       "1  104562736.0  1.058644e+08  1.071661e+08  1.084679e+08  1.097696e+08  \n",
       "2   93342270.0  9.508600e+07  9.682972e+07  9.857345e+07  1.003172e+08  \n",
       "3   85784518.0  8.671172e+07  8.763892e+07  8.856613e+07  8.949333e+07  \n",
       "4   66491327.5  6.750903e+07  6.852674e+07  6.954445e+07  7.056215e+07  "
      ]
     },
     "execution_count": 18,
     "metadata": {},
     "output_type": "execute_result"
    }
   ],
   "source": [
    "imp_df_past_pop['Per month increase in population'] = (imp_df_past_pop[imp_df_past_pop.columns[2]] - imp_df_past_pop[imp_df_past_pop.columns[1]])/12\n",
    "\n",
    "imp_df_past_pop['pop in 2002'] = imp_df_past_pop[imp_df_past_pop.columns[1]] + 1 * imp_df_past_pop['Per month increase in population']\n",
    "imp_df_past_pop['pop in 2003'] = imp_df_past_pop[imp_df_past_pop.columns[1]] + 2 * imp_df_past_pop['Per month increase in population']\n",
    "imp_df_past_pop['pop in 2004'] = imp_df_past_pop[imp_df_past_pop.columns[1]] + 3 * imp_df_past_pop['Per month increase in population']\n",
    "imp_df_past_pop['pop in 2005'] = imp_df_past_pop[imp_df_past_pop.columns[1]] + 4 * imp_df_past_pop['Per month increase in population']\n",
    "imp_df_past_pop['pop in 2006'] = imp_df_past_pop[imp_df_past_pop.columns[1]] + 5 * imp_df_past_pop['Per month increase in population']\n",
    "imp_df_past_pop['pop in 2007'] = imp_df_past_pop[imp_df_past_pop.columns[1]] + 6 * imp_df_past_pop['Per month increase in population']\n",
    "imp_df_past_pop['pop in 2008'] = imp_df_past_pop[imp_df_past_pop.columns[1]] + 7 * imp_df_past_pop['Per month increase in population']\n",
    "imp_df_past_pop['pop in 2009'] = imp_df_past_pop[imp_df_past_pop.columns[1]] + 8 * imp_df_past_pop['Per month increase in population']\n",
    "imp_df_past_pop['pop in 2010'] = imp_df_past_pop[imp_df_past_pop.columns[1]] + 9 * imp_df_past_pop['Per month increase in population']\n",
    "imp_df_past_pop['pop in 2011'] = imp_df_past_pop[imp_df_past_pop.columns[1]] + 10 * imp_df_past_pop['Per month increase in population']\n",
    "\n",
    "imp_df_past_pop"
   ]
  },
  {
   "cell_type": "markdown",
   "id": "890c1d80",
   "metadata": {},
   "source": [
    "# Area data"
   ]
  },
  {
   "cell_type": "code",
   "execution_count": 19,
   "id": "7ff17ce1",
   "metadata": {},
   "outputs": [
    {
     "data": {
      "text/html": [
       "<div>\n",
       "<style scoped>\n",
       "    .dataframe tbody tr th:only-of-type {\n",
       "        vertical-align: middle;\n",
       "    }\n",
       "\n",
       "    .dataframe tbody tr th {\n",
       "        vertical-align: top;\n",
       "    }\n",
       "\n",
       "    .dataframe thead th {\n",
       "        text-align: right;\n",
       "    }\n",
       "</style>\n",
       "<table border=\"1\" class=\"dataframe\">\n",
       "  <thead>\n",
       "    <tr style=\"text-align: right;\">\n",
       "      <th></th>\n",
       "      <th>Rank</th>\n",
       "      <th>State (S) / Union Territory (UT)</th>\n",
       "      <th>Area (km2)</th>\n",
       "      <th>Region</th>\n",
       "      <th>National share (%)</th>\n",
       "      <th>Note</th>\n",
       "    </tr>\n",
       "  </thead>\n",
       "  <tbody>\n",
       "    <tr>\n",
       "      <th>0</th>\n",
       "      <td>1 (S1)</td>\n",
       "      <td>Rajasthan</td>\n",
       "      <td>342239</td>\n",
       "      <td>Western</td>\n",
       "      <td>10.41</td>\n",
       "      <td>NaN</td>\n",
       "    </tr>\n",
       "    <tr>\n",
       "      <th>1</th>\n",
       "      <td>2 (S2)</td>\n",
       "      <td>Madhya Pradesh</td>\n",
       "      <td>308245</td>\n",
       "      <td>Central</td>\n",
       "      <td>9.38</td>\n",
       "      <td>[note 1]</td>\n",
       "    </tr>\n",
       "    <tr>\n",
       "      <th>2</th>\n",
       "      <td>3 (S3)</td>\n",
       "      <td>Maharashtra</td>\n",
       "      <td>307713</td>\n",
       "      <td>Western</td>\n",
       "      <td>9.36</td>\n",
       "      <td>NaN</td>\n",
       "    </tr>\n",
       "    <tr>\n",
       "      <th>3</th>\n",
       "      <td>4 (S4)</td>\n",
       "      <td>Uttar Pradesh</td>\n",
       "      <td>240928</td>\n",
       "      <td>Northern</td>\n",
       "      <td>7.33</td>\n",
       "      <td>NaN</td>\n",
       "    </tr>\n",
       "    <tr>\n",
       "      <th>4</th>\n",
       "      <td>5 (S5)</td>\n",
       "      <td>Gujarat</td>\n",
       "      <td>196024</td>\n",
       "      <td>Western</td>\n",
       "      <td>5.96</td>\n",
       "      <td>NaN</td>\n",
       "    </tr>\n",
       "  </tbody>\n",
       "</table>\n",
       "</div>"
      ],
      "text/plain": [
       "     Rank State (S) / Union Territory (UT) Area (km2)    Region  \\\n",
       "0  1 (S1)                        Rajasthan     342239   Western   \n",
       "1  2 (S2)                   Madhya Pradesh     308245   Central   \n",
       "2  3 (S3)                      Maharashtra     307713   Western   \n",
       "3  4 (S4)                    Uttar Pradesh     240928  Northern   \n",
       "4  5 (S5)                          Gujarat     196024   Western   \n",
       "\n",
       "   National share (%)      Note  \n",
       "0               10.41       NaN  \n",
       "1                9.38  [note 1]  \n",
       "2                9.36       NaN  \n",
       "3                7.33       NaN  \n",
       "4                5.96       NaN  "
      ]
     },
     "execution_count": 19,
     "metadata": {},
     "output_type": "execute_result"
    }
   ],
   "source": [
    "df_area.head()"
   ]
  },
  {
   "cell_type": "code",
   "execution_count": 20,
   "id": "f170b1cb",
   "metadata": {},
   "outputs": [
    {
     "data": {
      "text/html": [
       "<div>\n",
       "<style scoped>\n",
       "    .dataframe tbody tr th:only-of-type {\n",
       "        vertical-align: middle;\n",
       "    }\n",
       "\n",
       "    .dataframe tbody tr th {\n",
       "        vertical-align: top;\n",
       "    }\n",
       "\n",
       "    .dataframe thead th {\n",
       "        text-align: right;\n",
       "    }\n",
       "</style>\n",
       "<table border=\"1\" class=\"dataframe\">\n",
       "  <thead>\n",
       "    <tr style=\"text-align: right;\">\n",
       "      <th></th>\n",
       "      <th>State (S) / Union Territory (UT)</th>\n",
       "      <th>Area (km2)</th>\n",
       "    </tr>\n",
       "  </thead>\n",
       "  <tbody>\n",
       "    <tr>\n",
       "      <th>0</th>\n",
       "      <td>Rajasthan</td>\n",
       "      <td>342239</td>\n",
       "    </tr>\n",
       "    <tr>\n",
       "      <th>1</th>\n",
       "      <td>Madhya Pradesh</td>\n",
       "      <td>308245</td>\n",
       "    </tr>\n",
       "    <tr>\n",
       "      <th>2</th>\n",
       "      <td>Maharashtra</td>\n",
       "      <td>307713</td>\n",
       "    </tr>\n",
       "    <tr>\n",
       "      <th>3</th>\n",
       "      <td>Uttar Pradesh</td>\n",
       "      <td>240928</td>\n",
       "    </tr>\n",
       "    <tr>\n",
       "      <th>4</th>\n",
       "      <td>Gujarat</td>\n",
       "      <td>196024</td>\n",
       "    </tr>\n",
       "  </tbody>\n",
       "</table>\n",
       "</div>"
      ],
      "text/plain": [
       "  State (S) / Union Territory (UT) Area (km2)\n",
       "0                        Rajasthan     342239\n",
       "1                   Madhya Pradesh     308245\n",
       "2                      Maharashtra     307713\n",
       "3                    Uttar Pradesh     240928\n",
       "4                          Gujarat     196024"
      ]
     },
     "execution_count": 20,
     "metadata": {},
     "output_type": "execute_result"
    }
   ],
   "source": [
    "df_area_f = df_area[[df_area.columns[1],df_area.columns[2]]].head()\n",
    "df_area_f"
   ]
  },
  {
   "cell_type": "markdown",
   "id": "7f9bb05c",
   "metadata": {},
   "source": [
    "# Literacy data"
   ]
  },
  {
   "cell_type": "code",
   "execution_count": 21,
   "id": "a9361233",
   "metadata": {},
   "outputs": [
    {
     "data": {
      "text/html": [
       "<div>\n",
       "<style scoped>\n",
       "    .dataframe tbody tr th:only-of-type {\n",
       "        vertical-align: middle;\n",
       "    }\n",
       "\n",
       "    .dataframe tbody tr th {\n",
       "        vertical-align: top;\n",
       "    }\n",
       "\n",
       "    .dataframe thead th {\n",
       "        text-align: right;\n",
       "    }\n",
       "</style>\n",
       "<table border=\"1\" class=\"dataframe\">\n",
       "  <thead>\n",
       "    <tr style=\"text-align: right;\">\n",
       "      <th></th>\n",
       "      <th>State/UT</th>\n",
       "      <th>1951</th>\n",
       "      <th>1961</th>\n",
       "      <th>1971</th>\n",
       "      <th>1981</th>\n",
       "      <th>1991</th>\n",
       "      <th>2001</th>\n",
       "      <th>2011</th>\n",
       "    </tr>\n",
       "  </thead>\n",
       "  <tbody>\n",
       "    <tr>\n",
       "      <th>0</th>\n",
       "      <td>A&amp;N islands</td>\n",
       "      <td>30.3</td>\n",
       "      <td>40.07</td>\n",
       "      <td>51.15</td>\n",
       "      <td>63.19</td>\n",
       "      <td>73.02</td>\n",
       "      <td>81.30</td>\n",
       "      <td>86.27</td>\n",
       "    </tr>\n",
       "    <tr>\n",
       "      <th>1</th>\n",
       "      <td>Andhra Pradesh</td>\n",
       "      <td>-</td>\n",
       "      <td>21.19</td>\n",
       "      <td>24.57</td>\n",
       "      <td>35.66</td>\n",
       "      <td>44.08</td>\n",
       "      <td>60.47</td>\n",
       "      <td>67.66</td>\n",
       "    </tr>\n",
       "    <tr>\n",
       "      <th>2</th>\n",
       "      <td>Arunachal Pradesh</td>\n",
       "      <td>-</td>\n",
       "      <td>7.13</td>\n",
       "      <td>11.29</td>\n",
       "      <td>25.55</td>\n",
       "      <td>41.59</td>\n",
       "      <td>54.34</td>\n",
       "      <td>66.95</td>\n",
       "    </tr>\n",
       "    <tr>\n",
       "      <th>3</th>\n",
       "      <td>Assam</td>\n",
       "      <td>18.53</td>\n",
       "      <td>32.95</td>\n",
       "      <td>33.94</td>\n",
       "      <td>-</td>\n",
       "      <td>52.89</td>\n",
       "      <td>63.25</td>\n",
       "      <td>73.45</td>\n",
       "    </tr>\n",
       "    <tr>\n",
       "      <th>4</th>\n",
       "      <td>Bihar</td>\n",
       "      <td>13.49</td>\n",
       "      <td>21.95</td>\n",
       "      <td>23.17</td>\n",
       "      <td>32.32</td>\n",
       "      <td>37.49</td>\n",
       "      <td>47.00</td>\n",
       "      <td>61.82</td>\n",
       "    </tr>\n",
       "  </tbody>\n",
       "</table>\n",
       "</div>"
      ],
      "text/plain": [
       "            State/UT   1951   1961   1971   1981   1991   2001   2011\n",
       "0        A&N islands   30.3  40.07  51.15  63.19  73.02  81.30  86.27\n",
       "1     Andhra Pradesh      -  21.19  24.57  35.66  44.08  60.47  67.66\n",
       "2  Arunachal Pradesh      -   7.13  11.29  25.55  41.59  54.34  66.95\n",
       "3              Assam  18.53  32.95  33.94      -  52.89  63.25  73.45\n",
       "4              Bihar  13.49  21.95  23.17  32.32  37.49  47.00  61.82"
      ]
     },
     "execution_count": 21,
     "metadata": {},
     "output_type": "execute_result"
    }
   ],
   "source": [
    "df_lit.head()"
   ]
  },
  {
   "cell_type": "code",
   "execution_count": 22,
   "id": "bcddbcb2",
   "metadata": {},
   "outputs": [
    {
     "data": {
      "text/html": [
       "<div>\n",
       "<style scoped>\n",
       "    .dataframe tbody tr th:only-of-type {\n",
       "        vertical-align: middle;\n",
       "    }\n",
       "\n",
       "    .dataframe tbody tr th {\n",
       "        vertical-align: top;\n",
       "    }\n",
       "\n",
       "    .dataframe thead th {\n",
       "        text-align: right;\n",
       "    }\n",
       "</style>\n",
       "<table border=\"1\" class=\"dataframe\">\n",
       "  <thead>\n",
       "    <tr style=\"text-align: right;\">\n",
       "      <th></th>\n",
       "      <th>State/UT</th>\n",
       "      <th>2001</th>\n",
       "      <th>2011</th>\n",
       "    </tr>\n",
       "  </thead>\n",
       "  <tbody>\n",
       "    <tr>\n",
       "      <th>0</th>\n",
       "      <td>A&amp;N islands</td>\n",
       "      <td>81.30</td>\n",
       "      <td>86.27</td>\n",
       "    </tr>\n",
       "    <tr>\n",
       "      <th>1</th>\n",
       "      <td>Andhra Pradesh</td>\n",
       "      <td>60.47</td>\n",
       "      <td>67.66</td>\n",
       "    </tr>\n",
       "    <tr>\n",
       "      <th>2</th>\n",
       "      <td>Arunachal Pradesh</td>\n",
       "      <td>54.34</td>\n",
       "      <td>66.95</td>\n",
       "    </tr>\n",
       "    <tr>\n",
       "      <th>3</th>\n",
       "      <td>Assam</td>\n",
       "      <td>63.25</td>\n",
       "      <td>73.45</td>\n",
       "    </tr>\n",
       "    <tr>\n",
       "      <th>4</th>\n",
       "      <td>Bihar</td>\n",
       "      <td>47.00</td>\n",
       "      <td>61.82</td>\n",
       "    </tr>\n",
       "  </tbody>\n",
       "</table>\n",
       "</div>"
      ],
      "text/plain": [
       "            State/UT   2001   2011\n",
       "0        A&N islands  81.30  86.27\n",
       "1     Andhra Pradesh  60.47  67.66\n",
       "2  Arunachal Pradesh  54.34  66.95\n",
       "3              Assam  63.25  73.45\n",
       "4              Bihar  47.00  61.82"
      ]
     },
     "execution_count": 22,
     "metadata": {},
     "output_type": "execute_result"
    }
   ],
   "source": [
    "imp_df_lit = df_lit[[df_lit.columns[0],df_lit.columns[6],df_lit.columns[7]]]\n",
    "imp_df_lit.head()"
   ]
  },
  {
   "cell_type": "code",
   "execution_count": 23,
   "id": "897b4c42",
   "metadata": {},
   "outputs": [
    {
     "data": {
      "text/html": [
       "<div>\n",
       "<style scoped>\n",
       "    .dataframe tbody tr th:only-of-type {\n",
       "        vertical-align: middle;\n",
       "    }\n",
       "\n",
       "    .dataframe tbody tr th {\n",
       "        vertical-align: top;\n",
       "    }\n",
       "\n",
       "    .dataframe thead th {\n",
       "        text-align: right;\n",
       "    }\n",
       "</style>\n",
       "<table border=\"1\" class=\"dataframe\">\n",
       "  <thead>\n",
       "    <tr style=\"text-align: right;\">\n",
       "      <th></th>\n",
       "      <th>State/UT</th>\n",
       "      <th>2001</th>\n",
       "      <th>2011</th>\n",
       "      <th>Per month increase in literacy</th>\n",
       "      <th>literacy in 2002</th>\n",
       "      <th>literacy in 2003</th>\n",
       "      <th>literacy in 2004</th>\n",
       "      <th>literacy in 2005</th>\n",
       "      <th>literacy in 2006</th>\n",
       "      <th>literacy in 2007</th>\n",
       "      <th>literacy in 2008</th>\n",
       "      <th>literacy in 2009</th>\n",
       "      <th>literacy in 2010</th>\n",
       "      <th>literacy in 2012</th>\n",
       "    </tr>\n",
       "  </thead>\n",
       "  <tbody>\n",
       "    <tr>\n",
       "      <th>0</th>\n",
       "      <td>A&amp;N islands</td>\n",
       "      <td>81.30</td>\n",
       "      <td>86.27</td>\n",
       "      <td>0.414167</td>\n",
       "      <td>81.714167</td>\n",
       "      <td>82.128333</td>\n",
       "      <td>82.5425</td>\n",
       "      <td>82.956667</td>\n",
       "      <td>83.370833</td>\n",
       "      <td>83.785</td>\n",
       "      <td>84.199167</td>\n",
       "      <td>84.613333</td>\n",
       "      <td>85.0275</td>\n",
       "      <td>85.855833</td>\n",
       "    </tr>\n",
       "    <tr>\n",
       "      <th>1</th>\n",
       "      <td>Andhra Pradesh</td>\n",
       "      <td>60.47</td>\n",
       "      <td>67.66</td>\n",
       "      <td>0.599167</td>\n",
       "      <td>61.069167</td>\n",
       "      <td>61.668333</td>\n",
       "      <td>62.2675</td>\n",
       "      <td>62.866667</td>\n",
       "      <td>63.465833</td>\n",
       "      <td>64.065</td>\n",
       "      <td>64.664167</td>\n",
       "      <td>65.263333</td>\n",
       "      <td>65.8625</td>\n",
       "      <td>67.060833</td>\n",
       "    </tr>\n",
       "    <tr>\n",
       "      <th>2</th>\n",
       "      <td>Arunachal Pradesh</td>\n",
       "      <td>54.34</td>\n",
       "      <td>66.95</td>\n",
       "      <td>1.050833</td>\n",
       "      <td>55.390833</td>\n",
       "      <td>56.441667</td>\n",
       "      <td>57.4925</td>\n",
       "      <td>58.543333</td>\n",
       "      <td>59.594167</td>\n",
       "      <td>60.645</td>\n",
       "      <td>61.695833</td>\n",
       "      <td>62.746667</td>\n",
       "      <td>63.7975</td>\n",
       "      <td>65.899167</td>\n",
       "    </tr>\n",
       "    <tr>\n",
       "      <th>3</th>\n",
       "      <td>Assam</td>\n",
       "      <td>63.25</td>\n",
       "      <td>73.45</td>\n",
       "      <td>0.850000</td>\n",
       "      <td>64.100000</td>\n",
       "      <td>64.950000</td>\n",
       "      <td>65.8000</td>\n",
       "      <td>66.650000</td>\n",
       "      <td>67.500000</td>\n",
       "      <td>68.350</td>\n",
       "      <td>69.200000</td>\n",
       "      <td>70.050000</td>\n",
       "      <td>70.9000</td>\n",
       "      <td>72.600000</td>\n",
       "    </tr>\n",
       "    <tr>\n",
       "      <th>4</th>\n",
       "      <td>Bihar</td>\n",
       "      <td>47.00</td>\n",
       "      <td>61.82</td>\n",
       "      <td>1.235000</td>\n",
       "      <td>48.235000</td>\n",
       "      <td>49.470000</td>\n",
       "      <td>50.7050</td>\n",
       "      <td>51.940000</td>\n",
       "      <td>53.175000</td>\n",
       "      <td>54.410</td>\n",
       "      <td>55.645000</td>\n",
       "      <td>56.880000</td>\n",
       "      <td>58.1150</td>\n",
       "      <td>60.585000</td>\n",
       "    </tr>\n",
       "  </tbody>\n",
       "</table>\n",
       "</div>"
      ],
      "text/plain": [
       "            State/UT   2001   2011  Per month increase in literacy  \\\n",
       "0        A&N islands  81.30  86.27                        0.414167   \n",
       "1     Andhra Pradesh  60.47  67.66                        0.599167   \n",
       "2  Arunachal Pradesh  54.34  66.95                        1.050833   \n",
       "3              Assam  63.25  73.45                        0.850000   \n",
       "4              Bihar  47.00  61.82                        1.235000   \n",
       "\n",
       "   literacy in 2002  literacy in 2003  literacy in 2004  literacy in 2005  \\\n",
       "0         81.714167         82.128333           82.5425         82.956667   \n",
       "1         61.069167         61.668333           62.2675         62.866667   \n",
       "2         55.390833         56.441667           57.4925         58.543333   \n",
       "3         64.100000         64.950000           65.8000         66.650000   \n",
       "4         48.235000         49.470000           50.7050         51.940000   \n",
       "\n",
       "   literacy in 2006  literacy in 2007  literacy in 2008  literacy in 2009  \\\n",
       "0         83.370833            83.785         84.199167         84.613333   \n",
       "1         63.465833            64.065         64.664167         65.263333   \n",
       "2         59.594167            60.645         61.695833         62.746667   \n",
       "3         67.500000            68.350         69.200000         70.050000   \n",
       "4         53.175000            54.410         55.645000         56.880000   \n",
       "\n",
       "   literacy in 2010  literacy in 2012  \n",
       "0           85.0275         85.855833  \n",
       "1           65.8625         67.060833  \n",
       "2           63.7975         65.899167  \n",
       "3           70.9000         72.600000  \n",
       "4           58.1150         60.585000  "
      ]
     },
     "execution_count": 23,
     "metadata": {},
     "output_type": "execute_result"
    }
   ],
   "source": [
    "imp_df_lit['Per month increase in literacy'] = (imp_df_lit[imp_df_lit.columns[2]] - imp_df_lit[imp_df_lit.columns[1]])/12\n",
    "\n",
    "imp_df_lit['literacy in 2002'] = imp_df_lit[imp_df_lit.columns[1]] + 1 * imp_df_lit['Per month increase in literacy']\n",
    "imp_df_lit['literacy in 2003'] = imp_df_lit[imp_df_lit.columns[1]] + 2 * imp_df_lit['Per month increase in literacy']\n",
    "imp_df_lit['literacy in 2004'] = imp_df_lit[imp_df_lit.columns[1]] + 3 * imp_df_lit['Per month increase in literacy']\n",
    "imp_df_lit['literacy in 2005'] = imp_df_lit[imp_df_lit.columns[1]] + 4 * imp_df_lit['Per month increase in literacy']\n",
    "imp_df_lit['literacy in 2006'] = imp_df_lit[imp_df_lit.columns[1]] + 5 * imp_df_lit['Per month increase in literacy']\n",
    "imp_df_lit['literacy in 2007'] = imp_df_lit[imp_df_lit.columns[1]] + 6 * imp_df_lit['Per month increase in literacy']\n",
    "imp_df_lit['literacy in 2008'] = imp_df_lit[imp_df_lit.columns[1]] + 7 * imp_df_lit['Per month increase in literacy']\n",
    "imp_df_lit['literacy in 2009'] = imp_df_lit[imp_df_lit.columns[1]] + 8 * imp_df_lit['Per month increase in literacy']\n",
    "imp_df_lit['literacy in 2010'] = imp_df_lit[imp_df_lit.columns[1]] + 9 * imp_df_lit['Per month increase in literacy']\n",
    "imp_df_lit['literacy in 2012'] = imp_df_lit[imp_df_lit.columns[1]] + 11 * imp_df_lit['Per month increase in literacy']\n",
    "\n",
    "imp_df_lit.head()"
   ]
  },
  {
   "cell_type": "markdown",
   "id": "5a934be1",
   "metadata": {},
   "source": [
    "# Saving scrapped data"
   ]
  },
  {
   "cell_type": "code",
   "execution_count": 24,
   "id": "60667daa",
   "metadata": {},
   "outputs": [],
   "source": [
    "imp_df_lit.to_csv(r'E:\\DS Course Related\\Capstone Project\\Phase 1 data collection\\Interpolated or clean files\\lit.csv')\n",
    "\n",
    "df_area_f.to_csv(r'E:\\DS Course Related\\Capstone Project\\Phase 1 data collection\\Interpolated or clean files\\area.csv')\n",
    "\n",
    "imp_df_past_pop.to_csv(r'E:\\DS Course Related\\Capstone Project\\Phase 1 data collection\\Interpolated or clean files\\pop.csv')"
   ]
  },
  {
   "cell_type": "code",
   "execution_count": null,
   "id": "f87d9540",
   "metadata": {},
   "outputs": [],
   "source": []
  },
  {
   "cell_type": "code",
   "execution_count": null,
   "id": "edfc9f46",
   "metadata": {},
   "outputs": [],
   "source": []
  }
 ],
 "metadata": {
  "kernelspec": {
   "display_name": "Python 3 (ipykernel)",
   "language": "python",
   "name": "python3"
  },
  "language_info": {
   "codemirror_mode": {
    "name": "ipython",
    "version": 3
   },
   "file_extension": ".py",
   "mimetype": "text/x-python",
   "name": "python",
   "nbconvert_exporter": "python",
   "pygments_lexer": "ipython3",
   "version": "3.9.12"
  }
 },
 "nbformat": 4,
 "nbformat_minor": 5
}
